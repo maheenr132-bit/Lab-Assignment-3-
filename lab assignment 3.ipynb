{
 "cells": [
  {
   "cell_type": "code",
   "execution_count": 1,
   "id": "ced22551-6b42-4d04-b207-6da47766f9cb",
   "metadata": {},
   "outputs": [
    {
     "name": "stdout",
     "output_type": "stream",
     "text": [
      "number is positive\n"
     ]
    }
   ],
   "source": [
    "number = 7\n",
    "if number > 0:\n",
    "    print (\"number is positive\")\n",
    "elif number < 0:\n",
    "    print (\"number is negative\")\n",
    "else:\n",
    "    print(\"number is zero\")"
   ]
  },
  {
   "cell_type": "code",
   "execution_count": 2,
   "id": "1c2cbe1e-3a03-4425-bdd1-49c5452d77fb",
   "metadata": {},
   "outputs": [
    {
     "name": "stdout",
     "output_type": "stream",
     "text": [
      "2023 is not a leap Year\n"
     ]
    }
   ],
   "source": [
    "Year = 2023\n",
    "if Year % 4 == 0:\n",
    "    print (f\"{Year} is a leap Year\")\n",
    "else:\n",
    "    print (f\"{Year} is not a leap Year\")"
   ]
  },
  {
   "cell_type": "code",
   "execution_count": 3,
   "id": "9dc08965-3666-4b8d-a33c-16a34252c31b",
   "metadata": {},
   "outputs": [
    {
     "name": "stdout",
     "output_type": "stream",
     "text": [
      "Grade:B\n"
     ]
    }
   ],
   "source": [
    "students_marks = 70\n",
    "if students_marks >= 85:\n",
    "    print (\"Grade:A+\")\n",
    "elif students_marks >= 70:\n",
    "    print (\"Grade:B\")\n",
    "elif students_marks >= 50:\n",
    "    print (\"Grade:C\")\n",
    "else:\n",
    "    print (\"Grade:F\") \n",
    "\n",
    "\n",
    "\n",
    "    \n"
   ]
  },
  {
   "cell_type": "code",
   "execution_count": 2,
   "id": "49afb2ab-a3ca-447d-9873-ce1e38505589",
   "metadata": {},
   "outputs": [
    {
     "name": "stdout",
     "output_type": "stream",
     "text": [
      "1530\n"
     ]
    }
   ],
   "source": [
    "num1 = 45\n",
    "num2 = 34\n",
    "operator = '*'\n",
    "calculator = (num1 , num2 , operator)\n",
    "if operator == '+':\n",
    "    result = num1 + num2\n",
    "elif operator == '-':\n",
    "    result = num1 - num2\n",
    "elif operator == '*' :\n",
    "    result = num1 * num2\n",
    "elif operator == '/':\n",
    "    result = num1 / num2\n",
    "else:\n",
    "    print ('error') \n",
    "print (result) \n",
    "\n",
    "\n"
   ]
  },
  {
   "cell_type": "code",
   "execution_count": null,
   "id": "17873358-6e29-491f-8fba-0f1de3b5c278",
   "metadata": {},
   "outputs": [],
   "source": []
  }
 ],
 "metadata": {
  "kernelspec": {
   "display_name": "Python [conda env:base] *",
   "language": "python",
   "name": "conda-base-py"
  },
  "language_info": {
   "codemirror_mode": {
    "name": "ipython",
    "version": 3
   },
   "file_extension": ".py",
   "mimetype": "text/x-python",
   "name": "python",
   "nbconvert_exporter": "python",
   "pygments_lexer": "ipython3",
   "version": "3.13.5"
  }
 },
 "nbformat": 4,
 "nbformat_minor": 5
}
